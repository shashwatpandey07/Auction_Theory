{
  "nbformat": 4,
  "nbformat_minor": 0,
  "metadata": {
    "colab": {
      "provenance": []
    },
    "kernelspec": {
      "name": "python3",
      "display_name": "Python 3"
    },
    "language_info": {
      "name": "python"
    }
  },
  "cells": [
    {
      "cell_type": "code",
      "execution_count": 1,
      "metadata": {
        "id": "55Lgq2JYK64s"
      },
      "outputs": [],
      "source": [
        "\n",
        "import numpy as np\n",
        "import pandas as pd"
      ]
    },
    {
      "cell_type": "code",
      "source": [
        "A = []\n",
        "B = []\n",
        "C = []\n",
        "\n",
        "A.append(np.random.randint(20, 100))\n",
        "B.append(np.random.randint(20, 100))\n",
        "C.append(np.random.randint(20, 100))"
      ],
      "metadata": {
        "id": "pJvDZhrjK-8o"
      },
      "execution_count": 2,
      "outputs": []
    },
    {
      "cell_type": "code",
      "source": [
        "A"
      ],
      "metadata": {
        "colab": {
          "base_uri": "https://localhost:8080/"
        },
        "id": "zd6OzW8JLAef",
        "outputId": "9304a0b7-d10d-4d44-f08c-4decf03d580e"
      },
      "execution_count": 3,
      "outputs": [
        {
          "output_type": "execute_result",
          "data": {
            "text/plain": [
              "[27]"
            ]
          },
          "metadata": {},
          "execution_count": 3
        }
      ]
    },
    {
      "cell_type": "code",
      "source": [
        "B"
      ],
      "metadata": {
        "colab": {
          "base_uri": "https://localhost:8080/"
        },
        "id": "R7H-fj04LFL4",
        "outputId": "cc7dc8d7-4c3c-428c-916b-9ae62464a61f"
      },
      "execution_count": 4,
      "outputs": [
        {
          "output_type": "execute_result",
          "data": {
            "text/plain": [
              "[71]"
            ]
          },
          "metadata": {},
          "execution_count": 4
        }
      ]
    },
    {
      "cell_type": "code",
      "source": [
        "C"
      ],
      "metadata": {
        "colab": {
          "base_uri": "https://localhost:8080/"
        },
        "id": "OU8C8wkMLDoD",
        "outputId": "9ef21cfd-0397-47d7-b613-e91b9a238550"
      },
      "execution_count": 5,
      "outputs": [
        {
          "output_type": "execute_result",
          "data": {
            "text/plain": [
              "[76]"
            ]
          },
          "metadata": {},
          "execution_count": 5
        }
      ]
    },
    {
      "cell_type": "code",
      "source": [
        "no_of_rounds = np.round(np.log2(96))\n",
        "\n",
        "no_of_rounds = int(no_of_rounds)\n",
        "\n",
        "no_of_rounds\n",
        "     "
      ],
      "metadata": {
        "colab": {
          "base_uri": "https://localhost:8080/"
        },
        "id": "q35qLlxKLH6B",
        "outputId": "160f8e54-9c0c-4934-e6c1-859e076c34f0"
      },
      "execution_count": 6,
      "outputs": [
        {
          "output_type": "execute_result",
          "data": {
            "text/plain": [
              "7"
            ]
          },
          "metadata": {},
          "execution_count": 6
        }
      ]
    },
    {
      "cell_type": "code",
      "source": [
        "\n",
        "def generate_bid():\n",
        "    return np.random.randint(20, 100)\n",
        "\n",
        "for _ in range(no_of_rounds - 1):\n",
        "    A.append(generate_bid())\n",
        "    B.append(generate_bid())\n",
        "    C.append(generate_bid())\n"
      ],
      "metadata": {
        "id": "SK2NvGvKLKNa"
      },
      "execution_count": 7,
      "outputs": []
    },
    {
      "cell_type": "code",
      "source": [
        "print(A)"
      ],
      "metadata": {
        "colab": {
          "base_uri": "https://localhost:8080/"
        },
        "id": "wPZ-dFVbLMaj",
        "outputId": "b8b4123f-4327-4450-b2e1-d57ff4df2256"
      },
      "execution_count": 8,
      "outputs": [
        {
          "output_type": "stream",
          "name": "stdout",
          "text": [
            "[27, 58, 22, 56, 24, 22, 47]\n"
          ]
        }
      ]
    },
    {
      "cell_type": "code",
      "source": [
        "print(B)"
      ],
      "metadata": {
        "colab": {
          "base_uri": "https://localhost:8080/"
        },
        "id": "sgf_8yaMLNsU",
        "outputId": "b74683cd-428d-4533-a3d3-c017c9d22c7b"
      },
      "execution_count": 9,
      "outputs": [
        {
          "output_type": "stream",
          "name": "stdout",
          "text": [
            "[71, 44, 55, 25, 65, 27, 91]\n"
          ]
        }
      ]
    },
    {
      "cell_type": "code",
      "source": [
        "print(C)"
      ],
      "metadata": {
        "colab": {
          "base_uri": "https://localhost:8080/"
        },
        "id": "jNx33kuZLN1f",
        "outputId": "aa8308d2-0020-455c-dcb4-8b0dba1f1e77"
      },
      "execution_count": 10,
      "outputs": [
        {
          "output_type": "stream",
          "name": "stdout",
          "text": [
            "[76, 42, 48, 35, 75, 82, 99]\n"
          ]
        }
      ]
    }
  ]
}