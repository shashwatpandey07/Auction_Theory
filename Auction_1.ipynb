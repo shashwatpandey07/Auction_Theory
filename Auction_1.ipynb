{
  "nbformat": 4,
  "nbformat_minor": 0,
  "metadata": {
    "colab": {
      "provenance": []
    },
    "kernelspec": {
      "name": "python3",
      "display_name": "Python 3"
    },
    "language_info": {
      "name": "python"
    }
  },
  "cells": [
    {
      "cell_type": "code",
      "execution_count": 1,
      "metadata": {
        "id": "KtYj9v32KSZN"
      },
      "outputs": [],
      "source": [
        "import numpy as np\n",
        "import pandas as pd"
      ]
    },
    {
      "cell_type": "code",
      "source": [
        "def generate_bids():\n",
        "    bid1 = np.random.randint(10, 100)\n",
        "    bid2 = np.random.randint(10, 100)\n",
        "    \n",
        "    return (bid1, bid2)"
      ],
      "metadata": {
        "id": "xLq1D0XoKXYD"
      },
      "execution_count": 2,
      "outputs": []
    },
    {
      "cell_type": "code",
      "source": [
        "A = []\n",
        "B = []\n",
        "C = []\n",
        "\n",
        "for _ in range(10):\n",
        "    A.append(generate_bids())\n",
        "    B.append(generate_bids())\n",
        "    C.append(generate_bids())"
      ],
      "metadata": {
        "id": "OdR__MM1Kcmp"
      },
      "execution_count": 3,
      "outputs": []
    },
    {
      "cell_type": "code",
      "source": [
        "print(A)"
      ],
      "metadata": {
        "colab": {
          "base_uri": "https://localhost:8080/"
        },
        "id": "c7EhL9BjKeaB",
        "outputId": "0e8c7a67-fe86-4c92-a9f7-00130a7f946f"
      },
      "execution_count": 4,
      "outputs": [
        {
          "output_type": "stream",
          "name": "stdout",
          "text": [
            "[(13, 66), (78, 46), (35, 64), (55, 96), (91, 90), (51, 41), (26, 68), (22, 28), (43, 84), (42, 94)]\n"
          ]
        }
      ]
    },
    {
      "cell_type": "code",
      "source": [
        "print(B)"
      ],
      "metadata": {
        "colab": {
          "base_uri": "https://localhost:8080/"
        },
        "id": "g7D7Sc4qKgOa",
        "outputId": "a4840ffe-2b8f-4dd0-cfc4-b6894ba8f978"
      },
      "execution_count": 5,
      "outputs": [
        {
          "output_type": "stream",
          "name": "stdout",
          "text": [
            "[(89, 40), (22, 97), (26, 48), (74, 13), (98, 55), (88, 51), (20, 26), (28, 93), (59, 89), (83, 64)]\n"
          ]
        }
      ]
    },
    {
      "cell_type": "code",
      "source": [
        "\n",
        "\n",
        "print(C)"
      ],
      "metadata": {
        "colab": {
          "base_uri": "https://localhost:8080/"
        },
        "id": "uh2f_f9ZKh93",
        "outputId": "5a5153e2-a211-4a1e-bda9-af00977f12ed"
      },
      "execution_count": 6,
      "outputs": [
        {
          "output_type": "stream",
          "name": "stdout",
          "text": [
            "[(50, 30), (22, 58), (96, 32), (78, 86), (38, 97), (53, 81), (31, 67), (43, 27), (99, 93), (80, 57)]\n"
          ]
        }
      ]
    },
    {
      "cell_type": "code",
      "source": [
        "A_avg = []\n",
        "\n",
        "for i in range(10):\n",
        "    A_avg.append((A[i][0] + A[i][1])/2)\n",
        "    \n",
        "A_avg\n",
        "     "
      ],
      "metadata": {
        "colab": {
          "base_uri": "https://localhost:8080/"
        },
        "id": "zM6tRGk8KkYl",
        "outputId": "7880d711-463a-421f-cd27-f7929f402dbd"
      },
      "execution_count": 7,
      "outputs": [
        {
          "output_type": "execute_result",
          "data": {
            "text/plain": [
              "[39.5, 62.0, 49.5, 75.5, 90.5, 46.0, 47.0, 25.0, 63.5, 68.0]"
            ]
          },
          "metadata": {},
          "execution_count": 7
        }
      ]
    },
    {
      "cell_type": "code",
      "source": [
        "B_avg = []\n",
        "\n",
        "for i in range(10):\n",
        "    B_avg.append((B[i][0] + B[i][1])/2)\n",
        "    \n",
        "B_avg\n",
        "     \n"
      ],
      "metadata": {
        "colab": {
          "base_uri": "https://localhost:8080/"
        },
        "id": "cS8ae8fCKmTO",
        "outputId": "ccb05fe2-6de0-41d8-ebab-c3fa95a6886f"
      },
      "execution_count": 8,
      "outputs": [
        {
          "output_type": "execute_result",
          "data": {
            "text/plain": [
              "[64.5, 59.5, 37.0, 43.5, 76.5, 69.5, 23.0, 60.5, 74.0, 73.5]"
            ]
          },
          "metadata": {},
          "execution_count": 8
        }
      ]
    },
    {
      "cell_type": "code",
      "source": [
        "C_avg = []\n",
        "\n",
        "for i in range(10):\n",
        "    C_avg.append((C[i][0] + C[i][1])/2)\n",
        "    \n",
        "C_avg"
      ],
      "metadata": {
        "colab": {
          "base_uri": "https://localhost:8080/"
        },
        "id": "3p_YwNv3KoFR",
        "outputId": "3c6138c4-784e-4248-b408-e143b38e0781"
      },
      "execution_count": 9,
      "outputs": [
        {
          "output_type": "execute_result",
          "data": {
            "text/plain": [
              "[40.0, 40.0, 64.0, 82.0, 67.5, 67.0, 49.0, 35.0, 96.0, 68.5]"
            ]
          },
          "metadata": {},
          "execution_count": 9
        }
      ]
    },
    {
      "cell_type": "code",
      "source": [
        "RMS = []\n",
        "\n",
        "for i in range(10):\n",
        "    x = 0\n",
        "    x += A[i][0]**2 + A[i][1]**2\n",
        "    x += B[i][0]**2 + B[i][1]**2\n",
        "    x += C[i][0]**2 + C[i][1]**2\n",
        "    x /= 6\n",
        "    x = np.sqrt(x)\n",
        "    RMS.append(x)\n",
        "    \n",
        "RMS = np.array(RMS)\n",
        "RMS = RMS.round(2)\n",
        "print(RMS)"
      ],
      "metadata": {
        "colab": {
          "base_uri": "https://localhost:8080/"
        },
        "id": "8XNwP-6UKpvQ",
        "outputId": "89a1e15c-34e5-4fe4-9500-fa44986d0954"
      },
      "execution_count": 10,
      "outputs": [
        {
          "output_type": "stream",
          "name": "stdout",
          "text": [
            "[53.92 60.47 55.59 72.3  81.51 63.24 44.4  47.04 80.37 72.15]\n"
          ]
        }
      ]
    },
    {
      "cell_type": "code",
      "source": [
        "differences = []\n",
        "\n",
        "for i in range(10):\n",
        "    this_round = []\n",
        "    \n",
        "    this_round.append(abs(A_avg[i] - RMS[i]))\n",
        "    this_round.append(abs(B_avg[i] - RMS[i]))\n",
        "    this_round.append(abs(C_avg[i] - RMS[i]))\n",
        "\n",
        "    differences.append(this_round)\n",
        "    \n",
        "print(pd.DataFrame(differences))"
      ],
      "metadata": {
        "colab": {
          "base_uri": "https://localhost:8080/"
        },
        "id": "W8YFTXUbKroH",
        "outputId": "d0d7ebb3-be4b-4035-b0b9-443db265bf31"
      },
      "execution_count": 11,
      "outputs": [
        {
          "output_type": "stream",
          "name": "stdout",
          "text": [
            "       0      1      2\n",
            "0  14.42  10.58  13.92\n",
            "1   1.53   0.97  20.47\n",
            "2   6.09  18.59   8.41\n",
            "3   3.20  28.80   9.70\n",
            "4   8.99   5.01  14.01\n",
            "5  17.24   6.26   3.76\n",
            "6   2.60  21.40   4.60\n",
            "7  22.04  13.46  12.04\n",
            "8  16.87   6.37  15.63\n",
            "9   4.15   1.35   3.65\n"
          ]
        }
      ]
    },
    {
      "cell_type": "code",
      "source": [
        "winning_diffs = []\n",
        "\n",
        "for i in range(10):\n",
        "    winning_diffs.append(np.amin(differences[i]))\n",
        "    \n",
        "winning_diffs = np.array(winning_diffs)\n",
        "winning_diffs = winning_diffs.round(2)\n",
        "\n",
        "print(winning_diffs)"
      ],
      "metadata": {
        "colab": {
          "base_uri": "https://localhost:8080/"
        },
        "id": "F44VgQjiKt5c",
        "outputId": "33ef8895-a5e6-49b8-d230-e97ccd3e2400"
      },
      "execution_count": 12,
      "outputs": [
        {
          "output_type": "stream",
          "name": "stdout",
          "text": [
            "[10.58  0.97  6.09  3.2   5.01  3.76  2.6  12.04  6.37  1.35]\n"
          ]
        }
      ]
    }
  ]
}